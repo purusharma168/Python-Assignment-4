{
 "cells": [
  {
   "cell_type": "markdown",
   "metadata": {},
   "source": [
    "# Q.1.1) Write a Python Program(with class concepts) to find the area of the triangle using the below formula.\n",
    "# area = (s(s-a)(s-b)*(s-c)) ** 0.5\n",
    "# Function to take the length of the sides of triangle from user should be defined in the parent class and function to calculate the area should be defined in subclass."
   ]
  },
  {
   "cell_type": "code",
   "execution_count": 1,
   "metadata": {},
   "outputs": [
    {
     "name": "stdout",
     "output_type": "stream",
     "text": [
      "Area of the triangle is 8.744417862270764\n"
     ]
    }
   ],
   "source": [
    "class Triangle:\n",
    "    def __init__(self,a,b,c):\n",
    "        self.a=a\n",
    "        self.b=b\n",
    "        self.c=c\n",
    "        \n",
    "        \n",
    "class Area(Triangle):\n",
    "    def __init__(self,*args):\n",
    "        super(Area,self).__init__(*args)\n",
    "        \n",
    "    def area_of_triangle(self):\n",
    "        s=((self.a+self.b+self.c)/2)\n",
    "        area=((s*(s-self.a)*(s-self.b)*(s-self.c)) ** 0.5)\n",
    "        return 'Area of the triangle is {}'.format(area)\n",
    "    \n",
    "    \n",
    "x= Area(3.5,5,6)\n",
    "print(x.area_of_triangle())"
   ]
  },
  {
   "cell_type": "markdown",
   "metadata": {},
   "source": [
    "# Q.1.2) Write a function filter_long_words() that takes a list of words and an integer n and returns the list of words that are longer than n."
   ]
  },
  {
   "cell_type": "code",
   "execution_count": 5,
   "metadata": {},
   "outputs": [
    {
     "data": {
      "text/plain": [
       "['andriod', 'samsung']"
      ]
     },
     "execution_count": 5,
     "metadata": {},
     "output_type": "execute_result"
    }
   ],
   "source": [
    "l1=[]\n",
    "\n",
    "def filter_long_words(l,n):\n",
    "    for i in l:\n",
    "        if len(i)>n:\n",
    "            l1.append(i)\n",
    "    return l1\n",
    "        \n",
    "        \n",
    "l=['puru','max','rob','alice','eeeeee','robert','andriod','samsung']\n",
    "list(filter_long_words(l,6))"
   ]
  },
  {
   "cell_type": "markdown",
   "metadata": {},
   "source": [
    "# Another method"
   ]
  },
  {
   "cell_type": "code",
   "execution_count": 6,
   "metadata": {},
   "outputs": [
    {
     "data": {
      "text/plain": [
       "['andriod', 'samsung']"
      ]
     },
     "execution_count": 6,
     "metadata": {},
     "output_type": "execute_result"
    }
   ],
   "source": [
    "def filter_long_words(l,n):\n",
    "    return list(filter(lambda x:len(x)>n,l))\n",
    "\n",
    "filter_long_words(l,6)"
   ]
  },
  {
   "cell_type": "markdown",
   "metadata": {},
   "source": [
    "# Q. 2.1) Write a Python program using function concept that maps list of words into a list of integers representing the lengths of the corresponding words. Hint: If a list [ ab,cde,erty] is passed on to the python function output should come as [2,3,4] Here 2,3 and 4 are the lengths of the words in the list"
   ]
  },
  {
   "cell_type": "code",
   "execution_count": 8,
   "metadata": {},
   "outputs": [
    {
     "data": {
      "text/plain": [
       "[6, 6, 6, 4, 6, 15]"
      ]
     },
     "execution_count": 8,
     "metadata": {},
     "output_type": "execute_result"
    }
   ],
   "source": [
    "def len_of_words(l):\n",
    "    return len(l)\n",
    "\n",
    "l=['3swerf','seesdf','dwasdd','ksst','shdkdj','dhdtegsshuaydkk']\n",
    "\n",
    "list(map(len_of_words,l))"
   ]
  },
  {
   "cell_type": "markdown",
   "metadata": {},
   "source": [
    "# Q. 2.2) Write a Python function which takes a character (i.e. a string of length 1) and returns True if it is a vowel, False otherwise."
   ]
  },
  {
   "cell_type": "code",
   "execution_count": 9,
   "metadata": {},
   "outputs": [
    {
     "name": "stdout",
     "output_type": "stream",
     "text": [
      "False\n",
      "True\n",
      "True\n",
      "False\n",
      "True\n",
      "True\n"
     ]
    }
   ],
   "source": [
    "vowels=['a','e','i','o','u'] \n",
    "VOWELS=['A','E','I','O','U']\n",
    "def is_vowel(k):\n",
    "    if k in vowels: \n",
    "        return True\n",
    "    elif k.upper() in VOWELS:\n",
    "        return True\n",
    "    else:\n",
    "        return False\n",
    "        \n",
    "print(is_vowel('s'))  \n",
    "print(is_vowel('i'))\n",
    "print(is_vowel('I'))\n",
    "print(is_vowel('P'))\n",
    "print(is_vowel('a'))\n",
    "print(is_vowel(\"A\"))"
   ]
  },
  {
   "cell_type": "code",
   "execution_count": null,
   "metadata": {},
   "outputs": [],
   "source": []
  }
 ],
 "metadata": {
  "kernelspec": {
   "display_name": "Python 3",
   "language": "python",
   "name": "python3"
  },
  "language_info": {
   "codemirror_mode": {
    "name": "ipython",
    "version": 3
   },
   "file_extension": ".py",
   "mimetype": "text/x-python",
   "name": "python",
   "nbconvert_exporter": "python",
   "pygments_lexer": "ipython3",
   "version": "3.6.9"
  }
 },
 "nbformat": 4,
 "nbformat_minor": 4
}
